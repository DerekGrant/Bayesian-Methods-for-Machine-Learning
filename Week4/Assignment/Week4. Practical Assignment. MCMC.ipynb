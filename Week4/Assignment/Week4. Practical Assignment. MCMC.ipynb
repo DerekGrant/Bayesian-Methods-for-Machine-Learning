{
 "cells": [
  {
   "cell_type": "markdown",
   "metadata": {},
   "source": [
    "# Using PyMC3"
   ]
  },
  {
   "cell_type": "markdown",
   "metadata": {},
   "source": [
    "In this assignment, we will learn how to use a library for probabilistic programming and inference called <a href=\"http://docs.pymc.io/\">PyMC3</a>."
   ]
  },
  {
   "cell_type": "markdown",
   "metadata": {},
   "source": [
    "### Installation\n",
    "Libraries that are required for this tasks can be installed with the following command (if you use PyPI):\n",
    "\n",
    "```bash\n",
    "pip install pymc3 pandas numpy matplotlib seaborn\n",
    "```\n",
    "\n",
    "You can also install pymc3 from source using <a href=\"https://github.com/pymc-devs/pymc3#installation\">the instruction</a>."
   ]
  },
  {
   "cell_type": "code",
   "execution_count": 16,
   "metadata": {
    "collapsed": true
   },
   "outputs": [
    {
     "name": "stdout",
     "output_type": "stream",
     "text": [
      "Populating the interactive namespace from numpy and matplotlib\n"
     ]
    }
   ],
   "source": [
    "import numpy as np\n",
    "import pandas as pd\n",
    "import numpy.random as rnd\n",
    "import seaborn as sns\n",
    "from matplotlib import animation\n",
    "import pymc3 as pm\n",
    "from grader import Grader\n",
    "%pylab inline"
   ]
  },
  {
   "cell_type": "markdown",
   "metadata": {},
   "source": [
    "### Grading\n",
    "We will create a grader instance below and use it to collect your answers. Note that these outputs will be stored locally inside grader and will be uploaded to the platform only after running submitting function in the last part of this assignment. If you want to make a partial submission, you can run that cell anytime you want."
   ]
  },
  {
   "cell_type": "code",
   "execution_count": 2,
   "metadata": {
    "collapsed": true
   },
   "outputs": [],
   "source": [
    "grader = Grader()"
   ]
  },
  {
   "cell_type": "markdown",
   "metadata": {},
   "source": [
    "## Task 1. Alice and Bob\n",
    "\n",
    "Alice and Bob are trading on the market. Both of them are selling the Thing and want to get as high profit as possible.\n",
    "Every hour they check out with each other's prices and adjust their prices to compete on the market. Although they have different strategies for price setting.\n",
    "\n",
    "**Alice**: takes Bob's price during the **previous** hour, multiply by 0.6, add 90\\$, add Gaussian noise from $N(0, 20^2)$.\n",
    "\n",
    "**Bob**: takes Alice's price during the **current** hour, multiply by 1.2 and subtract 20\\$, add Gaussian noise from $N(0, 10^2)$.\n",
    "\n",
    "The problem is to find the joint distribution of Alice and Bob's prices after many hours of such an experiment."
   ]
  },
  {
   "cell_type": "markdown",
   "metadata": {},
   "source": [
    "### Task 1.1\n",
    "\n",
    "Implement the `run_simulation` function according to the description above. "
   ]
  },
  {
   "cell_type": "code",
   "execution_count": 3,
   "metadata": {
    "collapsed": true
   },
   "outputs": [],
   "source": [
    "def run_simulation(alice_start_price=300.0, bob_start_price=300.0, seed=42, num_hours=10000, burnin=1000):\n",
    "    \"\"\"Simulates an evolution of prices set by Bob and Alice.\n",
    "    \n",
    "    The function should simulate Alice and Bob behavior for `burnin' hours, then ignore the obtained\n",
    "    simulation results, and then simulate it for `num_hours' more.\n",
    "    The initial burnin (also sometimes called warmup) is done to make sure that the distribution stabilized.\n",
    "    \n",
    "    Please don't change the signature of the function.\n",
    "    \n",
    "    Returns:\n",
    "        two lists, with Alice and with Bob prices. Both lists should be of length num_hours.\n",
    "    \"\"\"\n",
    "    np.random.seed(seed)\n",
    "\n",
    "    alice_prices = [alice_start_price]\n",
    "    bob_prices = [bob_start_price]\n",
    "    \n",
    "    #### YOUR CODE HERE ####\n",
    "    for i in range(burnin-1,num_hours):\n",
    "        alice_prices.append(bob_prices[-1]*0.6+90+rnd.normal(0,20))\n",
    "        bob_prices.append(alice_prices[-1]*1.2-20+rnd.normal(0,10))\n",
    "    ### END OF YOUR CODE ###\n",
    "    \n",
    "    return alice_prices[burnin:], bob_prices[burnin:]"
   ]
  },
  {
   "cell_type": "code",
   "execution_count": 4,
   "metadata": {
    "collapsed": true
   },
   "outputs": [
    {
     "name": "stdout",
     "output_type": "stream",
     "text": [
      "Current answer for task 1.1 (Alice trajectory) is: 279.93428306  291.676868758\n",
      "Current answer for task 1.1 (Bob trajectory) is: 314.538496661  345.242541074\n"
     ]
    }
   ],
   "source": [
    "alice_prices, bob_prices = run_simulation(alice_start_price=300, bob_start_price=300, seed=42, num_hours=3, burnin=1)\n",
    "if len(alice_prices) != 3:\n",
    "    raise RuntimeError('Make sure that the function returns `num_hours` data points.')\n",
    "grader.submit_simulation_trajectory(alice_prices, bob_prices)"
   ]
  },
  {
   "cell_type": "markdown",
   "metadata": {},
   "source": [
    "### Task 1.2\n",
    "What is the average prices for Alice and Bob after the burnin period? Whose prices are higher?"
   ]
  },
  {
   "cell_type": "code",
   "execution_count": 5,
   "metadata": {
    "collapsed": true
   },
   "outputs": [
    {
     "name": "stdout",
     "output_type": "stream",
     "text": [
      "Current answer for task 1.2 (Alice mean) is: 278.448148538\n",
      "Current answer for task 1.2 (Bob mean) is: 314.155284666\n"
     ]
    }
   ],
   "source": [
    "#### YOUR CODE HERE ####\n",
    "alice_prices, bob_prices = run_simulation()\n",
    "average_alice_price = np.mean(alice_prices)\n",
    "average_bob_price = np.mean(bob_prices)\n",
    "### END OF YOUR CODE ###\n",
    "grader.submit_simulation_mean(average_alice_price, average_bob_price)"
   ]
  },
  {
   "cell_type": "markdown",
   "metadata": {},
   "source": [
    "### Task 1.3\n",
    "\n",
    "Let's look at the 2-d histogram of prices, computed using kernel density estimation."
   ]
  },
  {
   "cell_type": "code",
   "execution_count": 6,
   "metadata": {
    "collapsed": true
   },
   "outputs": [
    {
     "data": {
      "text/plain": [
       "<seaborn.axisgrid.JointGrid at 0x2d592cc0>"
      ]
     },
     "execution_count": 6,
     "metadata": {},
     "output_type": "execute_result"
    },
    {
     "data": {
      "image/png": "[encoded data removed]",
      "text/plain": [
       "<Figure size 432x432 with 3 Axes>"
      ]
     },
     "metadata": {},
     "output_type": "display_data"
    }
   ],
   "source": [
    "data = np.array(run_simulation())\n",
    "sns.jointplot(data[0, :], data[1, :], stat_func=None, kind='kde')"
   ]
  },
  {
   "cell_type": "markdown",
   "metadata": {},
   "source": [
    "Clearly, the prices of Bob and Alce are highly correlated. What is the Pearson correlation coefficient of Alice and Bob prices?"
   ]
  },
  {
   "cell_type": "code",
   "execution_count": 7,
   "metadata": {
    "collapsed": true
   },
   "outputs": [
    {
     "name": "stdout",
     "output_type": "stream",
     "text": [
      "Current answer for task 1.3 (Bob and Alice prices correlation) is: 0.960637549764\n"
     ]
    }
   ],
   "source": [
    "#### YOUR CODE HERE ####\n",
    "data = np.array(run_simulation(alice_start_price=300, bob_start_price=300, seed=42, num_hours=1000, burnin=100))\n",
    "correlation=np.corrcoef(data[0, :], data[1, :])[0, 1]\n",
    "### END OF YOUR CODE ###\n",
    "grader.submit_simulation_correlation(correlation)\n"
   ]
  },
  {
   "cell_type": "markdown",
   "metadata": {},
   "source": [
    "### Task 1.4"
   ]
  },
  {
   "cell_type": "markdown",
   "metadata": {},
   "source": [
    "We observe an interesting effect here: seems like the bivariate distribution of Alice and Bob prices converges to a correlated bivariate Gaussian distribution.\n",
    "\n",
    "Let's check, whether the results change if we use different random seed and starting points."
   ]
  },
  {
   "cell_type": "code",
   "execution_count": 8,
   "metadata": {
    "collapsed": true
   },
   "outputs": [
    {
     "name": "stdout",
     "output_type": "stream",
     "text": [
      "Current answer for task 1.4 (depends on the random data or not) is: Does not depend on random seed and starting prices\n"
     ]
    }
   ],
   "source": [
    "# Pick different starting prices, e.g 10, 1000, 10000 for Bob and Alice. \n",
    "# Does the joint distribution of the two prices depend on these parameters?\n",
    "POSSIBLE_ANSWERS = {\n",
    "    0: 'Depends on random seed and starting prices', \n",
    "    1: 'Depends only on random seed',\n",
    "    2: 'Depends only on starting prices',\n",
    "    3: 'Does not depend on random seed and starting prices'\n",
    "}\n",
    "\n",
    "idx = 3\n",
    "answer = POSSIBLE_ANSWERS[idx]\n",
    "grader.submit_simulation_depends(answer)"
   ]
  },
  {
   "cell_type": "markdown",
   "metadata": {},
   "source": [
    "## Task 2. Logistic regression with PyMC3\n",
    "\n",
    "Logistic regression is a powerful model that allows you to analyze how a set of features affects some binary target label. Posterior distribution over the weights gives us an estimation of the influence of each particular feature on the probability of the target being equal to one. But most importantly, posterior distribution gives us the interval estimates for each weight of the model. This is very important for data analysis when you want to not only provide a good model but also estimate the uncertainty of your conclusions.\n",
    "\n",
    "In this task, we will learn how to use PyMC3 library to perform approximate Bayesian inference for logistic regression.\n",
    "\n",
    "This part of the assignment is based on the logistic regression tutorial by Peadar Coyle and J. Benjamin Cook."
   ]
  },
  {
   "cell_type": "markdown",
   "metadata": {},
   "source": [
    "### Logistic regression.\n",
    "\n",
    "The problem here is to model how the probability that a person has salary $\\geq$ \\$50K is affected by his/her age, education, sex and other features.\n",
    "\n",
    "Let $y_i = 1$ if i-th person's salary is $\\geq$ \\$50K and $y_i = 0$ otherwise. Let $x_{ij}$ be $j$-th feature of $i$-th person.\n",
    "\n",
    "Logistic regression models this probabilty in the following way:\n",
    "\n",
    "$$p(y_i = 1 \\mid \\beta) = \\sigma (\\beta_1 x_{i1} + \\beta_2 x_{i2} + \\dots + \\beta_k x_{ik} ), $$\n",
    "\n",
    "where $\\sigma(t) = \\frac1{1 + e^{-t}}$"
   ]
  },
  {
   "cell_type": "markdown",
   "metadata": {},
   "source": [
    "#### Odds ratio.\n",
    "Let's try to answer the following question: does a gender of a person affects his or her salary? To do it we will use the concept of *odds*.\n",
    "\n",
    "If we have a binary random variable $y$ (which may indicate whether a person makes \\$50K) and if the probabilty of the positive outcome $p(y = 1)$ is for example 0.8, we will say that the *odds* are 4 to 1 (or just 4 for short), because succeding is 4 time more likely than failing $\\frac{p(y = 1)}{p(y = 0)} = \\frac{0.8}{0.2} = 4$.\n",
    "\n",
    "Now, let's return to the effect of gender on the salary. Let's compute the **ratio** between the odds of a male having salary $\\geq $ \\$50K and the odds of a female (with the same level of education, experience and everything else) having salary $\\geq$ \\$50K. The first feature of each person in the dataset is the gender. Specifically, $x_{i1} = 0$ if the person is female and $x_{i1} = 1$ otherwise. Consider two people $i$ and $j$ having all but one features the same with the only difference in $x_{i1} \\neq x_{j1}$.\n",
    "\n",
    "If the logistic regression model above estimates the probabilities exactly, the odds for a male will be (check it!):\n",
    "$$\n",
    "\\frac{p(y_i = 1 \\mid x_{i1}=1, x_{i2}, \\ldots, x_{ik})}{p(y_i = 0 \\mid x_{i1}=1, x_{i2}, \\ldots, x_{ik})} = \\frac{\\sigma(\\beta_1 + \\beta_2 x_{i2} + \\ldots)}{1 - \\sigma(\\beta_1 + \\beta_2 x_{i2} + \\ldots)} = \\exp(\\beta_1 + \\beta_2 x_{i2} + \\ldots)\n",
    "$$\n",
    "\n",
    "Now the ratio of the male and female odds will be:\n",
    "$$\n",
    "\\frac{\\exp(\\beta_1 \\cdot 1 + \\beta_2 x_{i2} + \\ldots)}{\\exp(\\beta_1 \\cdot 0 + \\beta_2 x_{i2} + \\ldots)} = \\exp(\\beta_1)\n",
    "$$\n",
    "\n",
    "So given the correct logistic regression model, we can estimate odds ratio for some feature (gender in this example) by just looking at the corresponding coefficient. But of course, even if all the logistic regression assumptions are met we cannot estimate the coefficient exactly from real-world data, it's just too noisy. So it would be really nice to build an interval estimate, which would tell us something along the lines \"with probability 0.95 the odds ratio is greater than 0.8 and less than 1.2, so we cannot conclude that there is any gender discrimination in the salaries\" (or vice versa, that \"with probability 0.95 the odds ratio is greater than 1.5 and less than 1.9 and the discrimination takes place because a male has at least 1.5 higher probability to get >$50k than a female with the same level of education, age, etc.\"). In Bayesian statistics, this interval estimate is called *credible interval*.\n",
    "\n",
    "Unfortunately, it's impossible to compute this credible interval analytically. So let's use MCMC for that!\n",
    "\n",
    "#### Credible interval\n",
    "A credible interval for the value of $\\exp(\\beta_1)$ is an interval $[a, b]$ such that $p(a \\leq \\exp(\\beta_1) \\leq b \\mid X_{\\text{train}}, y_{\\text{train}})$ is $0.95$ (or some other predefined value). To compute the interval, we need access to the posterior distribution $p(\\exp(\\beta_1) \\mid X_{\\text{train}}, y_{\\text{train}})$.\n",
    "\n",
    "Lets for simplicity focus on the posterior on the parameters $p(\\beta_1 \\mid X_{\\text{train}}, y_{\\text{train}})$ since if we compute it, we can always find $[a, b]$ such that $p(\\log a \\leq \\beta_1 \\leq \\log b \\mid X_{\\text{train}}, y_{\\text{train}}) = p(a \\leq \\exp(\\beta_1) \\leq b \\mid X_{\\text{train}}, y_{\\text{train}}) = 0.95$\n"
   ]
  },
  {
   "cell_type": "markdown",
   "metadata": {},
   "source": [
    "### Task 2.1 MAP inference"
   ]
  },
  {
   "cell_type": "markdown",
   "metadata": {},
   "source": [
    "Let's read the dataset. This is a post-processed version of the [UCI Adult dataset](http://archive.ics.uci.edu/ml/datasets/Adult)."
   ]
  },
  {
   "cell_type": "code",
   "execution_count": 21,
   "metadata": {},
   "outputs": [],
   "source": [
    "from theano import function, config, shared, sandbox  \n",
    "import theano.tensor as T  "
   ]
  },
  {
   "cell_type": "code",
   "execution_count": 22,
   "metadata": {},
   "outputs": [],
   "source": [
    "rng = numpy.random.RandomState(22)  "
   ]
  },
  {
   "cell_type": "code",
   "execution_count": 44,
   "metadata": {
    "collapsed": true
   },
   "outputs": [
    {
     "data": {
      "text/html": [
       "<div>\n",
       "<style scoped>\n",
       "    .dataframe tbody tr th:only-of-type {\n",
       "        vertical-align: middle;\n",
       "    }\n",
       "\n",
       "    .dataframe tbody tr th {\n",
       "        vertical-align: top;\n",
       "    }\n",
       "\n",
       "    .dataframe thead th {\n",
       "        text-align: right;\n",
       "    }\n",
       "</style>\n",
       "<table border=\"1\" class=\"dataframe\">\n",
       "  <thead>\n",
       "    <tr style=\"text-align: right;\">\n",
       "      <th></th>\n",
       "      <th>sex</th>\n",
       "      <th>age</th>\n",
       "      <th>educ</th>\n",
       "      <th>hours</th>\n",
       "      <th>income_more_50K</th>\n",
       "      <th>age_square</th>\n",
       "    </tr>\n",
       "  </thead>\n",
       "  <tbody>\n",
       "    <tr>\n",
       "      <th>0</th>\n",
       "      <td>Male</td>\n",
       "      <td>39</td>\n",
       "      <td>13</td>\n",
       "      <td>40</td>\n",
       "      <td>0</td>\n",
       "      <td>1521</td>\n",
       "    </tr>\n",
       "    <tr>\n",
       "      <th>1</th>\n",
       "      <td>Male</td>\n",
       "      <td>50</td>\n",
       "      <td>13</td>\n",
       "      <td>13</td>\n",
       "      <td>0</td>\n",
       "      <td>2500</td>\n",
       "    </tr>\n",
       "    <tr>\n",
       "      <th>2</th>\n",
       "      <td>Male</td>\n",
       "      <td>38</td>\n",
       "      <td>9</td>\n",
       "      <td>40</td>\n",
       "      <td>0</td>\n",
       "      <td>1444</td>\n",
       "    </tr>\n",
       "    <tr>\n",
       "      <th>3</th>\n",
       "      <td>Male</td>\n",
       "      <td>53</td>\n",
       "      <td>7</td>\n",
       "      <td>40</td>\n",
       "      <td>0</td>\n",
       "      <td>2809</td>\n",
       "    </tr>\n",
       "    <tr>\n",
       "      <th>4</th>\n",
       "      <td>Female</td>\n",
       "      <td>28</td>\n",
       "      <td>13</td>\n",
       "      <td>40</td>\n",
       "      <td>0</td>\n",
       "      <td>784</td>\n",
       "    </tr>\n",
       "  </tbody>\n",
       "</table>\n",
       "</div>"
      ],
      "text/plain": [
       "       sex  age  educ  hours  income_more_50K  age_square\n",
       "0     Male   39    13     40                0        1521\n",
       "1     Male   50    13     13                0        2500\n",
       "2     Male   38     9     40                0        1444\n",
       "3     Male   53     7     40                0        2809\n",
       "4   Female   28    13     40                0         784"
      ]
     },
     "execution_count": 44,
     "metadata": {},
     "output_type": "execute_result"
    }
   ],
   "source": [
    "data = pd.read_csv(\"adult_us_postprocessed.csv\")\n",
    "data['age_square']=data['age']**2\n",
    "data.head()\n"
   ]
  },
  {
   "cell_type": "code",
   "execution_count": 33,
   "metadata": {},
   "outputs": [],
   "source": [
    "data=pd.DataFrame(data.loc[:, data.columns != 'sex'],dtype=np.float)"
   ]
  },
  {
   "cell_type": "markdown",
   "metadata": {},
   "source": [
    "Each row of the dataset is a person with his (her) features. The last column is the target variable $y$. 1 indicates that this person's annual salary is more than $50K.\n",
    "\n",
    "First of all let's set up a Bayesian logistic regression model (i.e. define priors on the parameters $\\alpha$ and $\\beta$ of the model) that predicts the value of \"income_more_50K\" based on person's age and education:\n",
    "\n",
    "$$\n",
    "p(y = 1 \\mid \\alpha, \\beta_1, \\beta_2) = \\sigma(\\alpha + \\beta_1 x_1 + \\beta_2 x_2) \\\\ \n",
    "\\alpha \\sim N(0, 100^2) \\\\\n",
    "\\beta_1 \\sim N(0, 100^2) \\\\\n",
    "\\beta_2 \\sim N(0, 100^2), \\\\\n",
    "$$\n",
    "\n",
    "where $x_1$ is a person's age, $x_2$ is his/her level of education, y indicates his/her level of income, $\\alpha$, $\\beta_1$ and $\\beta_2$ are paramters of the model."
   ]
  },
  {
   "cell_type": "code",
   "execution_count": 10,
   "metadata": {
    "collapsed": true
   },
   "outputs": [
    {
     "name": "stderr",
     "output_type": "stream",
     "text": [
      "logp = -15,132, ||grad|| = 0.0038056: 100%|████| 32/32 [00:00<00:00, 52.89it/s]\n"
     ]
    },
    {
     "name": "stdout",
     "output_type": "stream",
     "text": [
      "{'beta_1': array(0.043482549488544464, dtype=float32), 'alpha': array(-6.74809455871582, dtype=float32), 'beta_2': array(0.36210861802101135, dtype=float32)}\n"
     ]
    }
   ],
   "source": [
    "with pm.Model() as manual_logistic_model:\n",
    "    # Declare pymc random variables for logistic regression coefficients with uninformative \n",
    "    # prior distributions N(0, 100^2) on each weight using pm.Normal. \n",
    "    # Don't forget to give each variable a unique name.\n",
    "    \n",
    "    #### YOUR CODE HERE ####\n",
    "    alpha = pm.Normal('alpha',0,100)\n",
    "    beta_1 = pm.Normal('beta_1',0,100)\n",
    "    beta_2 = pm.Normal('beta_2',0,100)\n",
    "    ### END OF YOUR CODE ###\n",
    "    \n",
    "    # Thansform these random variables into vector of probabilities p(y_i=1) using logistic regression model specified \n",
    "    # above. PyMC random variables are theano shared variables and support simple mathematical operations.\n",
    "    # For example:\n",
    "    # z = pm.Normal('x', 0, 1) * np.array([1, 2, 3]) + pm.Normal('y', 0, 1) * np.array([4, 5, 6])`\n",
    "    # is a correct PyMC expression.\n",
    "    # Use pm.invlogit for the sigmoid function.\n",
    "    \n",
    "    #### YOUR CODE HERE ####\n",
    "    z = pm.invlogit(alpha + beta_1 * np.array(data['age']) + beta_2 * np.array(data['educ']))\n",
    "    ### END OF YOUR CODE ###\n",
    "    \n",
    "    # Declare PyMC Bernoulli random vector with probability of success equal to the corresponding value\n",
    "    # given by the sigmoid function.\n",
    "    # Supply target vector using \"observed\" argument in the constructor.\n",
    "\n",
    "    #### YOUR CODE HERE ####\n",
    "    y_obs = pm.Bernoulli('y_obs',p=z, observed=data['income_more_50K'])\n",
    "    ### END OF YOUR CODE ###\n",
    "    \n",
    "    # Use pm.find_MAP() to find the maximum a-posteriori estimate for the vector of logistic regression weights.\n",
    "    map_estimate = pm.find_MAP()\n",
    "    print(map_estimate)\n",
    "\n"
   ]
  },
  {
   "cell_type": "markdown",
   "metadata": {},
   "source": [
    "Sumbit MAP estimations of corresponding coefficients:"
   ]
  },
  {
   "cell_type": "code",
   "execution_count": 11,
   "metadata": {
    "collapsed": true
   },
   "outputs": [
    {
     "name": "stderr",
     "output_type": "stream",
     "text": [
      "logp = -15,131, ||grad|| = 0.0070432: 100%|████| 32/32 [00:00<00:00, 32.45it/s]\n"
     ]
    },
    {
     "name": "stdout",
     "output_type": "stream",
     "text": [
      "{'educ': array(0.3621089458465576, dtype=float32), 'age': array(0.04348258674144745, dtype=float32), 'Intercept': array(-6.7480998039245605, dtype=float32)}\n"
     ]
    }
   ],
   "source": [
    "with pm.Model() as logistic_model:\n",
    "    # There's a simpler interface for generalized linear models in pymc3. \n",
    "    # Try to train the same model using pm.glm.GLM.from_formula.\n",
    "    # Do not forget to specify that the target variable is binary (and hence follows Binomial distribution).\n",
    "    \n",
    "    #### YOUR CODE HERE ####\n",
    "    pm.glm.GLM.from_formula('income_more_50K ~ age + educ', data, family=pm.glm.families.Binomial())\n",
    "    ### END OF YOUR CODE ###\n",
    "    map_estimate = pm.find_MAP()\n",
    "    print(map_estimate)"
   ]
  },
  {
   "cell_type": "code",
   "execution_count": 12,
   "metadata": {
    "collapsed": true,
    "scrolled": true
   },
   "outputs": [
    {
     "name": "stdout",
     "output_type": "stream",
     "text": [
      "Current answer for task 2.1 (MAP for age coef) is: 0.0434825895261\n",
      "Current answer for task 2.1 (MAP for aducation coef) is: 0.362108941695\n"
     ]
    }
   ],
   "source": [
    "beta_age_coefficient = 0.043482589526144345\n",
    "beta_education_coefficient = 0.36210894169495034\n",
    "grader.submit_pymc_map_estimates(beta_age_coefficient, beta_education_coefficient)"
   ]
  },
  {
   "cell_type": "markdown",
   "metadata": {},
   "source": [
    "### Task 2.2 MCMC"
   ]
  },
  {
   "cell_type": "markdown",
   "metadata": {},
   "source": [
    "To find credible regions let's perform MCMC inference."
   ]
  },
  {
   "cell_type": "code",
   "execution_count": 13,
   "metadata": {
    "collapsed": true
   },
   "outputs": [],
   "source": [
    "# You will need the following function to visualize the sampling process.\n",
    "# You don't need to change it.\n",
    "def plot_traces(traces, burnin=2000):\n",
    "    ''' \n",
    "    Convenience function:\n",
    "    Plot traces with overlaid means and values\n",
    "    '''\n",
    "    \n",
    "    ax = pm.traceplot(traces[burnin:], figsize=(12,len(traces.varnames)*1.5),\n",
    "        lines={k: v['mean'] for k, v in pm.df_summary(traces[burnin:]).iterrows()})\n",
    "\n",
    "    for i, mn in enumerate(pm.summary(traces[burnin:])['mean']):#pm.df_summary doesn't work\n",
    "        ax[i,0].annotate('{:.2f}'.format(mn), xy=(mn,0), xycoords='data'\n",
    "                    ,xytext=(5,10), textcoords='offset points', rotation=90\n",
    "                    ,va='bottom', fontsize='large', color='#AA0022')"
   ]
  },
  {
   "cell_type": "markdown",
   "metadata": {},
   "source": [
    "#### Metropolis-Hastings\n",
    "Let's use Metropolis-Hastings algorithm for finding the samples from the posterior distribution.\n",
    "\n",
    "Once you wrote the code, explore the hyperparameters of Metropolis-Hastings such as the proposal distribution variance to speed up the convergence. You can use `plot_traces` function in the next cell to visually inspect the convergence.\n",
    "\n",
    "You may also use MAP-estimate to initialize the sampling scheme to speed things up. This will make the warmup (burnin) period shorter since you will start from a probable point."
   ]
  },
  {
   "cell_type": "code",
   "execution_count": 48,
   "metadata": {
    "collapsed": true
   },
   "outputs": [
    {
     "name": "stderr",
     "output_type": "stream",
     "text": [
      "Only 400 samples in chain.\n",
      "Sequential sampling (1 chains in 1 job)\n",
      "CompoundStep\n",
      ">Metropolis: [hours]\n",
      ">Metropolis: [educ]\n",
      ">Metropolis: [age_square]\n",
      ">Metropolis: [age]\n",
      ">Metropolis: [Intercept]\n",
      "100%|████████████████████████████████████████| 900/900 [01:48<00:00,  8.30it/s]\n",
      "Only one chain was sampled, this makes it impossible to run some convergence checks\n"
     ]
    }
   ],
   "source": [
    "with pm.Model() as logistic_model:\n",
    "    # Since it is unlikely that the dependency between the age and salary is linear, we will include age squared\n",
    "    # into features so that we can model dependency that favors certain ages.\n",
    "    # Train Bayesian logistic regression model on the following features: sex, age, age^2, educ, hours\n",
    "    # Use pm.sample to run MCMC to train this model.\n",
    "    # To specify the particular sampler method (Metropolis-Hastings) to pm.sample,\n",
    "    # use `pm.Metropolis`.\n",
    "    # Train your model for 400 samples.\n",
    "    # Save the output of pm.sample to a variable: this is the trace of the sampling procedure and will be used\n",
    "    # to estimate the statistics of the posterior distribution.\n",
    "    \n",
    "    #### YOUR CODE HERE ####\n",
    "    \n",
    "    pm.glm.GLM.from_formula('income_more_50K ~  age + age_square + educ + hours', data, family=pm.glm.families.Binomial())\n",
    "    with logistic_model:\n",
    "        trace = pm.sample(400, step=[pm.Metropolis()],nchains=1, njobs=1) #nchains\n",
    "        \n",
    "    ### END OF YOUR CODE ###"
   ]
  },
  {
   "cell_type": "code",
   "execution_count": 49,
   "metadata": {
    "collapsed": true
   },
   "outputs": [
    {
     "ename": "AttributeError",
     "evalue": "'module' object has no attribute 'df_summary'",
     "output_type": "error",
     "traceback": [
      "\u001b[1;31m---------------------------------------------------------------------------\u001b[0m",
      "\u001b[1;31mAttributeError\u001b[0m                            Traceback (most recent call last)",
      "\u001b[1;32m<ipython-input-49-8d29b264e93d>\u001b[0m in \u001b[0;36m<module>\u001b[1;34m()\u001b[0m\n\u001b[1;32m----> 1\u001b[1;33m \u001b[0mplot_traces\u001b[0m\u001b[1;33m(\u001b[0m\u001b[0mtrace\u001b[0m\u001b[1;33m,\u001b[0m \u001b[0mburnin\u001b[0m\u001b[1;33m=\u001b[0m\u001b[1;36m200\u001b[0m\u001b[1;33m)\u001b[0m\u001b[1;33m\u001b[0m\u001b[0m\n\u001b[0m",
      "\u001b[1;32m<ipython-input-13-9c3be988e461>\u001b[0m in \u001b[0;36mplot_traces\u001b[1;34m(traces, burnin)\u001b[0m\n\u001b[0;32m      8\u001b[0m \u001b[1;33m\u001b[0m\u001b[0m\n\u001b[0;32m      9\u001b[0m     ax = pm.traceplot(traces[burnin:], figsize=(12,len(traces.varnames)*1.5),\n\u001b[1;32m---> 10\u001b[1;33m         lines={k: v['mean'] for k, v in pm.df_summary(traces[burnin:]).iterrows()})\n\u001b[0m\u001b[0;32m     11\u001b[0m \u001b[1;33m\u001b[0m\u001b[0m\n\u001b[0;32m     12\u001b[0m     \u001b[1;32mfor\u001b[0m \u001b[0mi\u001b[0m\u001b[1;33m,\u001b[0m \u001b[0mmn\u001b[0m \u001b[1;32min\u001b[0m \u001b[0menumerate\u001b[0m\u001b[1;33m(\u001b[0m\u001b[0mpm\u001b[0m\u001b[1;33m.\u001b[0m\u001b[0mdf_summary\u001b[0m\u001b[1;33m(\u001b[0m\u001b[0mtraces\u001b[0m\u001b[1;33m[\u001b[0m\u001b[0mburnin\u001b[0m\u001b[1;33m:\u001b[0m\u001b[1;33m]\u001b[0m\u001b[1;33m)\u001b[0m\u001b[1;33m[\u001b[0m\u001b[1;34m'mean'\u001b[0m\u001b[1;33m]\u001b[0m\u001b[1;33m)\u001b[0m\u001b[1;33m:\u001b[0m\u001b[1;33m\u001b[0m\u001b[0m\n",
      "\u001b[1;31mAttributeError\u001b[0m: 'module' object has no attribute 'df_summary'"
     ]
    }
   ],
   "source": [
    "plot_traces(trace, burnin=200)"
   ]
  },
  {
   "cell_type": "markdown",
   "metadata": {},
   "source": [
    "#### NUTS sampler\n",
    "Use pm.sample without specifying a particular sampling method (pymc3 will choose it automatically).\n",
    "The sampling algorithm that will be used in this case is NUTS, which is a form of Hamiltonian Monte Carlo, in which parameters are tuned automatically. This is an advanced method that we hadn't cover in the lectures, but it usually converges faster and gives less correlated samples compared to vanilla Metropolis-Hastings.\n",
    "\n",
    "Since the NUTS sampler doesn't require to tune hyperparameters, let's run it for 10 times more iterations than Metropolis-Hastings."
   ]
  },
  {
   "cell_type": "code",
   "execution_count": null,
   "metadata": {
    "collapsed": true
   },
   "outputs": [
    {
     "name": "stderr",
     "output_type": "stream",
     "text": [
      "Sequential sampling (1 chains in 1 job)\n",
      "NUTS: [hours, educ, age_square, age, sex[T. Male], Intercept]\n",
      " 20%|███████▎                             | 890/4500 [34:20<2:19:18,  2.32s/it]"
     ]
    }
   ],
   "source": [
    "with pm.Model() as logistic_model:\n",
    "    # Train Bayesian logistic regression model on the following features: sex, age, age_squared, educ, hours\n",
    "    # Use pm.sample to run MCMC to train this model.\n",
    "    # Train your model for *4000* samples (ten times more than before).\n",
    "    # Training can take a while, so relax and wait :)\n",
    "    \n",
    "    #### YOUR CODE HERE ####\n",
    "    pm.glm.GLM.from_formula('income_more_50K ~ sex + age + age_square + educ + hours', data, family=pm.glm.families.Binomial())\n",
    "    with logistic_model:\n",
    "        trace = pm.sample(4000, step=[pm.NUTS()], nchains=1)\n",
    "    ### END OF YOUR CODE ###"
   ]
  },
  {
   "cell_type": "code",
   "execution_count": null,
   "metadata": {
    "collapsed": true
   },
   "outputs": [],
   "source": [
    "plot_traces(trace)"
   ]
  },
  {
   "cell_type": "markdown",
   "metadata": {},
   "source": [
    "#### Estimating the odds ratio\n",
    "Now, let's build the posterior distribution on the odds ratio given the dataset (approximated by MCMC)."
   ]
  },
  {
   "cell_type": "code",
   "execution_count": null,
   "metadata": {
    "collapsed": true
   },
   "outputs": [],
   "source": [
    "# We don't need to use a large burn-in here, since we initialize sampling\n",
    "# from a good point (from our approximation of the most probable\n",
    "# point (MAP) to be more precise).\n",
    "burnin = 100\n",
    "b = trace['sex[T. Male]'][burnin:]\n",
    "plt.hist(np.exp(b), bins=20, normed=True)\n",
    "plt.xlabel(\"Odds Ratio\")\n",
    "plt.show()"
   ]
  },
  {
   "cell_type": "markdown",
   "metadata": {},
   "source": [
    "\n",
    "Finally, we can find a credible interval  (recall that credible intervals are Bayesian and confidence intervals are frequentist) for this quantity. This may be the best part about Bayesian statistics: we get to interpret credibility intervals the way we've always wanted to interpret them. We are 95% confident that the odds ratio lies within our interval!"
   ]
  },
  {
   "cell_type": "code",
   "execution_count": null,
   "metadata": {
    "collapsed": true
   },
   "outputs": [],
   "source": [
    "lb, ub = np.percentile(b, 2.5), np.percentile(b, 97.5)\n",
    "print(\"P(%.3f < Odds Ratio < %.3f) = 0.95\" % (np.exp(lb), np.exp(ub)))"
   ]
  },
  {
   "cell_type": "code",
   "execution_count": null,
   "metadata": {
    "collapsed": true
   },
   "outputs": [],
   "source": [
    "# Submit the obtained credible interval.\n",
    "grader.submit_pymc_odds_ratio_interval(np.exp(lb), np.exp(ub))"
   ]
  },
  {
   "cell_type": "markdown",
   "metadata": {},
   "source": [
    "### Task 2.3 interpreting the results"
   ]
  },
  {
   "cell_type": "code",
   "execution_count": 30,
   "metadata": {
    "collapsed": true
   },
   "outputs": [
    {
     "name": "stdout",
     "output_type": "stream",
     "text": [
      "Current answer for task 2.3 (does the data suggest gender discrimination?) is: Yes, we are 95% sure that a female is *less* likely to get >$50K than a male with the same age, level of education, etc.\n"
     ]
    }
   ],
   "source": [
    "# Does the gender affects salary in the provided dataset?\n",
    "# (Note that the data is from 1996 and maybe not representative\n",
    "# of the current situation in the world.)\n",
    "POSSIBLE_ANSWERS = {\n",
    "    0: 'No, there is certainly no discrimination',\n",
    "    1: 'We cannot say for sure',\n",
    "    2: 'Yes, we are 95% sure that a female is *less* likely to get >$50K than a male with the same age, level of education, etc.', \n",
    "    3: 'Yes, we are 95% sure that a female is *more* likely to get >$50K than a male with the same age, level of education, etc.', \n",
    "}\n",
    "\n",
    "idx = 2### TYPE THE INDEX OF THE CORRECT ANSWER HERE ###\n",
    "answer = POSSIBLE_ANSWERS[idx]\n",
    "grader.submit_is_there_discrimination(answer)"
   ]
  },
  {
   "cell_type": "markdown",
   "metadata": {},
   "source": [
    "# Authorization & Submission\n",
    "To submit assignment parts to Cousera platform, please, enter your e-mail and token into variables below. You can generate token on this programming assignment page. <b>Note:</b> Token expires 30 minutes after generation."
   ]
  },
  {
   "cell_type": "code",
   "execution_count": null,
   "metadata": {
    "collapsed": true
   },
   "outputs": [],
   "source": [
    "STUDENT_EMAIL = ''\n",
    "STUDENT_TOKEN = ''\n",
    "grader.status()"
   ]
  },
  {
   "cell_type": "markdown",
   "metadata": {},
   "source": [
    "If you want to submit these answers, run cell below"
   ]
  },
  {
   "cell_type": "code",
   "execution_count": null,
   "metadata": {
    "collapsed": true
   },
   "outputs": [],
   "source": [
    "grader.submit(STUDENT_EMAIL, STUDENT_TOKEN)"
   ]
  },
  {
   "cell_type": "markdown",
   "metadata": {},
   "source": [
    "# (Optional) generating videos of sampling process\n",
    "For this (optional) part you will need to install ffmpeg, e.g. by the following command on linux\n",
    "\n",
    "    apt-get install ffmpeg\n",
    "\n",
    "or the following command on Mac\n",
    "\n",
    "    brew install ffmpeg"
   ]
  },
  {
   "cell_type": "markdown",
   "metadata": {},
   "source": [
    "## Setting things up\n",
    "You don't need to modify the code below, it sets up the plotting functions. The code is based on [MCMC visualization tutorial](https://twiecki.github.io/blog/2014/01/02/visualizing-mcmc/)."
   ]
  },
  {
   "cell_type": "code",
   "execution_count": null,
   "metadata": {
    "collapsed": true
   },
   "outputs": [],
   "source": [
    "from IPython.display import HTML\n",
    "\n",
    "# Number of MCMC iteration to animate.\n",
    "samples = 400\n",
    "\n",
    "figsize(6, 6)\n",
    "fig = plt.figure()\n",
    "s_width = (0.81, 1.29)\n",
    "a_width = (0.11, 0.39)\n",
    "samples_width = (0, samples)\n",
    "ax1 = fig.add_subplot(221, xlim=s_width, ylim=samples_width)\n",
    "ax2 = fig.add_subplot(224, xlim=samples_width, ylim=a_width)\n",
    "ax3 = fig.add_subplot(223, xlim=s_width, ylim=a_width,\n",
    "                      xlabel='male coef',\n",
    "                      ylabel='educ coef')\n",
    "fig.subplots_adjust(wspace=0.0, hspace=0.0)\n",
    "line1, = ax1.plot([], [], lw=1)\n",
    "line2, = ax2.plot([], [], lw=1)\n",
    "line3, = ax3.plot([], [], 'o', lw=2, alpha=.1)\n",
    "line4, = ax3.plot([], [], lw=1, alpha=.3)\n",
    "line5, = ax3.plot([], [], 'k', lw=1)\n",
    "line6, = ax3.plot([], [], 'k', lw=1)\n",
    "ax1.set_xticklabels([])\n",
    "ax2.set_yticklabels([])\n",
    "lines = [line1, line2, line3, line4, line5, line6]\n",
    "\n",
    "def init():\n",
    "    for line in lines:\n",
    "        line.set_data([], [])\n",
    "    return lines\n",
    "\n",
    "def animate(i):\n",
    "    with logistic_model:\n",
    "        if i == 0:\n",
    "            # Burnin\n",
    "            for j in range(samples): iter_sample.__next__() \n",
    "        trace = iter_sample.__next__()\n",
    "#     import pdb; pdb.set_trace()\n",
    "    line1.set_data(trace['sex[T. Male]'][::-1], range(len(trace['sex[T. Male]'])))\n",
    "    line2.set_data(range(len(trace['educ'])), trace['educ'][::-1])\n",
    "    line3.set_data(trace['sex[T. Male]'], trace['educ'])\n",
    "    line4.set_data(trace['sex[T. Male]'], trace['educ'])\n",
    "    male = trace['sex[T. Male]'][-1]\n",
    "    educ = trace['educ'][-1]\n",
    "    line5.set_data([male, male], [educ, a_width[1]])\n",
    "    line6.set_data([male, s_width[1]], [educ, educ])\n",
    "    return lines"
   ]
  },
  {
   "cell_type": "markdown",
   "metadata": {},
   "source": [
    "## Animating Metropolis-Hastings"
   ]
  },
  {
   "cell_type": "code",
   "execution_count": null,
   "metadata": {
    "collapsed": true
   },
   "outputs": [],
   "source": [
    "with pm.Model() as logistic_model:\n",
    "    # Again define Bayesian logistic regression model on the following features: sex, age, age_squared, educ, hours\n",
    "    \n",
    "    #### YOUR CODE HERE ####\n",
    "    \n",
    "    ### END OF YOUR CODE ###\n",
    "    step = pm.Metropolis()\n",
    "    iter_sample = pm.iter_sample(2 * samples, step, start=map_estimate)\n",
    "anim = animation.FuncAnimation(fig, animate, init_func=init,\n",
    "                               frames=samples, interval=5, blit=True)\n",
    "HTML(anim.to_html5_video())\n",
    "# Note that generating the video may take a while."
   ]
  },
  {
   "cell_type": "markdown",
   "metadata": {},
   "source": [
    "## Animating NUTS\n",
    "Now rerun the animation providing the NUTS sampling method as the step argument."
   ]
  },
  {
   "cell_type": "code",
   "execution_count": null,
   "metadata": {
    "collapsed": true
   },
   "outputs": [],
   "source": []
  }
 ],
 "metadata": {
  "kernelspec": {
   "display_name": "Python 2",
   "language": "python",
   "name": "python2"
  },
  "language_info": {
   "codemirror_mode": {
    "name": "ipython",
    "version": 2
   },
   "file_extension": ".py",
   "mimetype": "text/x-python",
   "name": "python",
   "nbconvert_exporter": "python",
   "pygments_lexer": "ipython2",
   "version": "2.7.15"
  }
 },
 "nbformat": 4,
 "nbformat_minor": 2
}
